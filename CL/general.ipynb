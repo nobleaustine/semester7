{
 "cells": [
  {
   "cell_type": "code",
   "execution_count": null,
   "metadata": {},
   "outputs": [],
   "source": [
    "import re\n"
   ]
  },
  {
   "cell_type": "code",
   "execution_count": null,
   "metadata": {},
   "outputs": [],
   "source": [
    "rules = [\n",
    "    r\"\\b(?:[A-Z][a-z]\\.){2.}\\b\",\n",
    "    r\"\\b\\w+-\\w+\\b\",\n",
    "    r\"[A-Z][a-z]+()\",\n",
    "]\n",
    "\n",
    "sentence = \"U.S.A is't going to the ice-cream shop, but he's already made plans Dr. Smith is'nt avalilable right now !!!\""
   ]
  }
 ],
 "metadata": {
  "language_info": {
   "name": "python"
  }
 },
 "nbformat": 4,
 "nbformat_minor": 2
}
